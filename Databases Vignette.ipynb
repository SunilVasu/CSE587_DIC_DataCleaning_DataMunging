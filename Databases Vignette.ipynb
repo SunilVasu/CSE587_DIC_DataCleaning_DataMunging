{
 "cells": [
  {
   "cell_type": "code",
   "execution_count": null,
   "metadata": {
    "collapsed": false
   },
   "outputs": [],
   "source": [
    "#install.packages(\"RPostgreSQL\",repos=\"http://cran.us.r-project.org/\")\n",
    "library(dplyr)\n",
    "library(RSQLite)\n",
    "library(nycflights13)\n",
    "#library(RPostgreSQL)"
   ]
  },
  {
   "cell_type": "code",
   "execution_count": null,
   "metadata": {
    "collapsed": false
   },
   "outputs": [],
   "source": [
    "my_db <- src_sqlite(\"Data/my_db.sqlite\", create = T)\n",
    "\n",
    "flights_sqlite <- copy_to(my_db, flights, temporary = FALSE, indexes = list(\n",
    "  c(\"year\", \"month\", \"day\"), \"carrier\", \"tailnum\"))"
   ]
  },
  {
   "cell_type": "code",
   "execution_count": null,
   "metadata": {
    "collapsed": false
   },
   "outputs": [],
   "source": [
    "flights_sqlite <- tbl(nycflights13_sqlite(), \"flights\")"
   ]
  },
  {
   "cell_type": "code",
   "execution_count": null,
   "metadata": {
    "collapsed": false
   },
   "outputs": [],
   "source": [
    "flights_sqlite"
   ]
  },
  {
   "cell_type": "code",
   "execution_count": null,
   "metadata": {
    "collapsed": false
   },
   "outputs": [],
   "source": [
    "my_db\n",
    "\n",
    "tbl(my_db, sql(\"SELECT * FROM flights\"))"
   ]
  },
  {
   "cell_type": "code",
   "execution_count": null,
   "metadata": {
    "collapsed": false
   },
   "outputs": [],
   "source": [
    "select(flights_sqlite, year:day, dep_delay, arr_delay)"
   ]
  },
  {
   "cell_type": "code",
   "execution_count": null,
   "metadata": {
    "collapsed": false
   },
   "outputs": [],
   "source": [
    "filter(flights_sqlite, dep_delay > 240)"
   ]
  },
  {
   "cell_type": "code",
   "execution_count": null,
   "metadata": {
    "collapsed": false
   },
   "outputs": [],
   "source": [
    "arrange(flights_sqlite, year, month, day)"
   ]
  },
  {
   "cell_type": "code",
   "execution_count": null,
   "metadata": {
    "collapsed": false
   },
   "outputs": [],
   "source": [
    "mutate(flights_sqlite, speed = air_time / distance)"
   ]
  },
  {
   "cell_type": "code",
   "execution_count": null,
   "metadata": {
    "collapsed": false
   },
   "outputs": [],
   "source": [
    "summarise(flights_sqlite, delay = mean(dep_time))"
   ]
  },
  {
   "cell_type": "code",
   "execution_count": null,
   "metadata": {
    "collapsed": true
   },
   "outputs": [],
   "source": [
    "c1 <- filter(flights_sqlite, year == 2013, month == 1, day == 1)\n",
    "c2 <- select(c1, year, month, day, carrier, dep_delay, air_time, distance)\n",
    "c3 <- mutate(c2, speed = distance / air_time * 60)\n",
    "c4 <- arrange(c3, year, month, day, carrier)"
   ]
  },
  {
   "cell_type": "code",
   "execution_count": null,
   "metadata": {
    "collapsed": false
   },
   "outputs": [],
   "source": [
    "collect(c4)"
   ]
  },
  {
   "cell_type": "code",
   "execution_count": null,
   "metadata": {
    "collapsed": false
   },
   "outputs": [],
   "source": [
    "c4$query"
   ]
  },
  {
   "cell_type": "code",
   "execution_count": null,
   "metadata": {
    "collapsed": false
   },
   "outputs": [],
   "source": [
    "explain(c4)"
   ]
  },
  {
   "cell_type": "code",
   "execution_count": null,
   "metadata": {
    "collapsed": false
   },
   "outputs": [],
   "source": [
    "translate_sql(x)\n",
    "translate_sql(\"x\")"
   ]
  },
  {
   "cell_type": "code",
   "execution_count": null,
   "metadata": {
    "collapsed": false
   },
   "outputs": [],
   "source": [
    "translate_sql(x == 1 && (y < 2 || z > 3))"
   ]
  },
  {
   "cell_type": "code",
   "execution_count": null,
   "metadata": {
    "collapsed": false
   },
   "outputs": [],
   "source": [
    "translate_sql(x ^ 2 < 10)\n",
    "translate_sql(x %% 2 == 10)"
   ]
  },
  {
   "cell_type": "code",
   "execution_count": null,
   "metadata": {
    "collapsed": false
   },
   "outputs": [],
   "source": [
    "translate_sql(1)\n",
    "translate_sql(1L)\n",
    "translate_sql(x %like% \"ab*\")"
   ]
  },
  {
   "cell_type": "code",
   "execution_count": null,
   "metadata": {
    "collapsed": false
   },
   "outputs": [],
   "source": [
    "by_tailnum <- group_by(flights_sqlite, tailnum)\n",
    "delay <- summarise(by_tailnum,\n",
    "  count = n(),\n",
    "  dist = mean(distance),\n",
    "  delay = mean(arr_delay)\n",
    ")\n",
    "(delay <- filter(delay, count > 20, dist < 2000))\n",
    "(delay_local <- collect(delay))"
   ]
  },
  {
   "cell_type": "code",
   "execution_count": null,
   "metadata": {
    "collapsed": false
   },
   "outputs": [],
   "source": [
    "flights_postgres <- tbl(src_postgres(\"nycflights13\"), \"flights\")"
   ]
  },
  {
   "cell_type": "code",
   "execution_count": null,
   "metadata": {
    "collapsed": false
   },
   "outputs": [],
   "source": [
    "bestworst <- daily %>% \n",
    "  select(flight, arr_delay) %>% \n",
    "  filter(arr_delay == min(arr_delay) || arr_delay == max(arr_delay))\n",
    "bestworst$query"
   ]
  },
  {
   "cell_type": "code",
   "execution_count": null,
   "metadata": {
    "collapsed": false
   },
   "outputs": [],
   "source": [
    "ranked <- daily %>% \n",
    "  select(arr_delay) %>% \n",
    "  mutate(rank = rank(desc(arr_delay)))\n",
    "ranked$query"
   ]
  },
  {
   "cell_type": "code",
   "execution_count": null,
   "metadata": {
    "collapsed": true
   },
   "outputs": [],
   "source": []
  }
 ],
 "metadata": {
  "kernelspec": {
   "display_name": "R",
   "language": "R",
   "name": "ir"
  },
  "language_info": {
   "codemirror_mode": "r",
   "file_extension": ".r",
   "mimetype": "text/x-r-source",
   "name": "R",
   "pygments_lexer": "r",
   "version": "3.3.2"
  }
 },
 "nbformat": 4,
 "nbformat_minor": 2
}
