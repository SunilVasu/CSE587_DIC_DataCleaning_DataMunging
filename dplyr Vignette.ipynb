{
 "cells": [
  {
   "cell_type": "code",
   "execution_count": null,
   "metadata": {
    "collapsed": false
   },
   "outputs": [],
   "source": [
    "#install.packages(\"nycflights13\")\n",
    "#install.packages(\"dplyr\",repos=\"http://cran.us.r-project.org/\")\n",
    "#install.packages(\"ggplot\",repos=\"http://cran.us.r-project.org/\")\n",
    "#library(devtools)\n",
    "#install_github(\"dkahle/ggmap\")\n",
    "library(nycflights13)\n",
    "library(dplyr)\n",
    "library(ggmap)\n",
    "dim(flights)\n",
    "head(flights)\n",
    "summarise(flights)\n",
    "filter(flights, month == 1, day == 1)\n",
    "\n",
    "#compared to the R command\n",
    "flights[flights$month == 1 & flights$day == 1, ]\n",
    "\n",
    "filter(flights, month == 1 | month == 2 )\n",
    "\n",
    "arrange(flights,year,month,day)\n",
    "arrange(flights, desc(arr_delay))\n",
    "\n",
    "select(flights,year:day)\n",
    "select(flights, -(year:day))\n",
    "select(flights,tail_num=tailnum)\n",
    "\n",
    "distinct(flights, tailnum)\n",
    "distinct(flights,origin,dest)\n",
    "\n",
    "#mutate-use the new var, transform-cant use the new var, transmute-display only the new var cols \n",
    "mutate(flights, gain=arr_delay - dep_delay, speed = distance / arr_time * 60)\n",
    "\n",
    "transmute(flights,\n",
    "          gain = arr_delay - dep_delay,\n",
    "          gain_per_hour = gain / (air_time / 60))\n",
    "\n",
    "summarize(flights, delay=mean(dep_delay, na.rm=FALSE))\n",
    "\n",
    "sample_n(flights,06)\n",
    "sample_frac(flights, 0.05)\n",
    "\n",
    "by_tailnum <- group_by(flights, tailnum)\n",
    "delay <- summarise(by_tailnum, count=n(), dist = mean(distance, na.rm = TRUE),\n",
    "                   delay= mean(arr_delay, na.rm= TRUE))\n",
    "delay\n",
    "delay <- filter (delay,count>20, dist < 2000)\n",
    "delay\n",
    "\n",
    "ggplot(delay, aes(dist, delay)) + geom_point(aes(size = count), alpha =1/2)+ geom_smooth() + scale_size_area()\n",
    "\n",
    "destinations <- group_by(flights, dest)\n",
    "summarise(destinations, planes = n_distinct(tailnum), flights =n())\n",
    "\n",
    "daily <- group_by(flights, year, month, day)\n",
    "(per_day   <- summarise(daily, flights = n()))\n",
    "  \n",
    "per_month <- summarise(per_day, flights = sum(flights))\n",
    "per_month\n",
    "\n",
    "(per_year  <- summarise(per_month, flights = sum(flights)))\n",
    "\n",
    "#chaining\n",
    "# 1) Step by step\n",
    "a1 <- group_by(flights,year,month,day)\n",
    "a2 <- select(a1, arr_delay, dep_delay)\n",
    "a3 <- summarise(a2, arr = mean(arr_delay, na.rm = TRUE),\n",
    "                dep = mean(dep_delay, na.rm = TRUE))\n",
    "a4 <- filter(a3, arr >30 | dep >30)\n",
    "a4\n",
    "# 2) Single function\n",
    "filter(\n",
    "  summarise(\n",
    "    select(\n",
    "      group_by(flights, year, month, day),\n",
    "      arr_delay, dep_delay\n",
    "    ),\n",
    "    arr = mean(arr_delay, na.rm = TRUE),\n",
    "    dep = mean(dep_delay, na.rm = TRUE)\n",
    "  ),\n",
    "  arr > 30 | dep > 30\n",
    ")\n",
    "# 3) using %>%\n",
    "flights %>%\n",
    "  group_by(year, month, day) %>%\n",
    "  select(arr_delay, dep_delay) %>%\n",
    "  summarise(\n",
    "    arr = mean(arr_delay, na.rm = TRUE),\n",
    "    dep = mean(dep_delay, na.rm = TRUE)\n",
    "  ) %>%\n",
    "  filter(arr > 30 | dep > 30)\n"
   ]
  },
  {
   "cell_type": "code",
   "execution_count": null,
   "metadata": {
    "collapsed": false
   },
   "outputs": [],
   "source": [
    "#Two-table verbs\n",
    "library(\"nycflights13\")\n",
    "(flights2 <- flights %>% select(year:day, hour, origin, dest, tailnum, carrier))"
   ]
  },
  {
   "cell_type": "code",
   "execution_count": null,
   "metadata": {
    "collapsed": false
   },
   "outputs": [],
   "source": [
    "flights2 %>% \n",
    "  left_join(airlines)"
   ]
  },
  {
   "cell_type": "code",
   "execution_count": null,
   "metadata": {
    "collapsed": false
   },
   "outputs": [],
   "source": [
    "flights2 %>% left_join(weather)"
   ]
  },
  {
   "cell_type": "code",
   "execution_count": null,
   "metadata": {
    "collapsed": false
   },
   "outputs": [],
   "source": [
    "flights2 %>% left_join(planes, by = \"tailnum\")"
   ]
  },
  {
   "cell_type": "code",
   "execution_count": null,
   "metadata": {
    "collapsed": false
   },
   "outputs": [],
   "source": [
    "flights2 %>% left_join(airports, c(\"dest\" = \"faa\"))"
   ]
  },
  {
   "cell_type": "code",
   "execution_count": null,
   "metadata": {
    "collapsed": false
   },
   "outputs": [],
   "source": [
    "flights2 %>% left_join(airports, c(\"origin\" = \"faa\"))"
   ]
  },
  {
   "cell_type": "code",
   "execution_count": null,
   "metadata": {
    "collapsed": false
   },
   "outputs": [],
   "source": [
    "flights2 %>% left_join(weather)"
   ]
  },
  {
   "cell_type": "code",
   "execution_count": null,
   "metadata": {
    "collapsed": false
   },
   "outputs": [],
   "source": [
    "flights2 %>% left_join(planes, by = \"tailnum\")"
   ]
  },
  {
   "cell_type": "code",
   "execution_count": null,
   "metadata": {
    "collapsed": false
   },
   "outputs": [],
   "source": [
    "flights2 %>% left_join(airports, c(\"dest\" = \"faa\"))"
   ]
  },
  {
   "cell_type": "code",
   "execution_count": null,
   "metadata": {
    "collapsed": false
   },
   "outputs": [],
   "source": [
    "flights2 %>% left_join(airports, c(\"origin\" = \"faa\"))"
   ]
  },
  {
   "cell_type": "code",
   "execution_count": null,
   "metadata": {
    "collapsed": false
   },
   "outputs": [],
   "source": [
    "(df1 <- data_frame(x = c(1, 2), y = 2:1))"
   ]
  },
  {
   "cell_type": "code",
   "execution_count": null,
   "metadata": {
    "collapsed": false
   },
   "outputs": [],
   "source": [
    "(df2 <- data_frame(x = c(1, 3), a = 10, b = \"a\"))"
   ]
  },
  {
   "cell_type": "code",
   "execution_count": null,
   "metadata": {
    "collapsed": false
   },
   "outputs": [],
   "source": [
    "df1 %>% inner_join(df2) %>% knitr::kable()"
   ]
  },
  {
   "cell_type": "code",
   "execution_count": null,
   "metadata": {
    "collapsed": false
   },
   "outputs": [],
   "source": [
    "df1 %>% left_join(df2)\n",
    "df1 %>% right_join(df2)"
   ]
  },
  {
   "cell_type": "code",
   "execution_count": null,
   "metadata": {
    "collapsed": false
   },
   "outputs": [],
   "source": [
    "df1 <- data_frame(x = c(1, 1, 2), y = 1:3)\n",
    "df2 <- data_frame(x = c(1, 1, 2), z = c(\"a\", \"b\", \"a\"))\n",
    "\n",
    "df1 %>% left_join(df2)"
   ]
  },
  {
   "cell_type": "code",
   "execution_count": null,
   "metadata": {
    "collapsed": false
   },
   "outputs": [],
   "source": [
    "library(\"nycflights13\")\n",
    "flights %>% \n",
    "  anti_join(planes, by = \"tailnum\") %>% \n",
    "  count(tailnum, sort = TRUE)"
   ]
  },
  {
   "cell_type": "code",
   "execution_count": null,
   "metadata": {
    "collapsed": false
   },
   "outputs": [],
   "source": [
    "df1 <- data_frame(x = c(1, 1, 3, 4), y = 1:4)\n",
    "df2 <- data_frame(x = c(1, 1, 2), z = c(\"a\", \"b\", \"a\"))\n",
    "df1 %>% nrow()\n",
    "df1 %>% inner_join(df2, by = \"x\") %>% nrow()\n",
    "df1 %>% semi_join(df2, by = \"x\") %>% nrow()"
   ]
  },
  {
   "cell_type": "code",
   "execution_count": null,
   "metadata": {
    "collapsed": false
   },
   "outputs": [],
   "source": [
    "(df1 <- data_frame(x = 1:2, y = c(1L, 1L)))\n",
    "(df2 <- data_frame(x = 1:2, y = 1:2))\n",
    "intersect(df1, df2)\n",
    "union(df1, df2)\n",
    "setdiff(df1, df2)\n",
    "setdiff(df2, df1)"
   ]
  },
  {
   "cell_type": "code",
   "execution_count": null,
   "metadata": {
    "collapsed": false
   },
   "outputs": [],
   "source": [
    "df1 <- data_frame(x = 1, y = factor(\"a\"))\n",
    "df2 <- data_frame(x = 2, y = factor(\"b\"))\n",
    "full_join(df1, df2) %>% str()"
   ]
  },
  {
   "cell_type": "code",
   "execution_count": null,
   "metadata": {
    "collapsed": false
   },
   "outputs": [],
   "source": [
    "df1 <- data_frame(x = 1, y = 1L)\n",
    "df2 <- data_frame(x = 2, y = 1.5)\n",
    "full_join(df1, df2) %>% str()"
   ]
  },
  {
   "cell_type": "code",
   "execution_count": null,
   "metadata": {
    "collapsed": true
   },
   "outputs": [],
   "source": []
  }
 ],
 "metadata": {
  "kernelspec": {
   "display_name": "R",
   "language": "R",
   "name": "ir"
  },
  "language_info": {
   "codemirror_mode": "r",
   "file_extension": ".r",
   "mimetype": "text/x-r-source",
   "name": "R",
   "pygments_lexer": "r",
   "version": "3.3.2"
  }
 },
 "nbformat": 4,
 "nbformat_minor": 2
}
